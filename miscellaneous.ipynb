for i in range(5):
    for j in range(i):
        print('*', end=' ')
    print()

for i in range(4):
    j =4
    while j > i:
        print('*', end=' ')
        j -= 1
    print()

for i in range(4):
    for j in range(4):
        if i + j  >= 3:
            print('*', end = ' ')
        else:
            print(' ', end= ' ')
    print()

# prime number program
num = int(input('Enter any number to check whether it is prime or not: '))
if num > 1:
   # check for factors
   for i in range(2,num):
       if (num % i) == 0:
           print(num,"is not a prime number")
           print(i,"times",num//i,"is",num)
           break
   else:
       print(num,"is a prime number")
       
# if input number is less than
# or equal to 1, it is not prime
else:
   print(num,"is not a prime number")
        
        

# find reverse number program
X = int(input('Enter number: '))
rev = 0
while X >0:
    rem = X % 10
    print(rem, end ='')
    X = X //10
    rev = rev * 10 + rem

# Armstrong number program
number = input('Enter any number:')
x =len(number)
number = int(number)
j= number
i =0
while number >0:
    rem = number % 10
    i += rem ** x
    number = number // 10
print(i)
if i == j:
    print(f'{j} is armstrong number')
else:
    print(f'{j} is not armstrong number')

for i in range(2000,3001):
    x=i
    for j in range(4):
        rem = i % 10
        if rem % 2 ==0:
            i = i //10
            if i == 0:
                print(x)
            else:
                continue
        else:
            break           

